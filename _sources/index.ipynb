{
 "cells": [
  {
   "cell_type": "markdown",
   "metadata": {},
   "source": [
    "# Home"
   ]
  },
  {
   "cell_type": "markdown",
   "metadata": {},
   "source": [
    "This wiki is a knowledge base which explores the huge topic of **data science**, from scratch. It is a structured log book of topics I encountered during my journey of taking courses, reading books, listening to pod casts, attending conferences, etc.\n",
    "\n",
    "```{note}\n",
    "This wiki just started to shape (as of June 2020) and will grow over time. At this moment articles may be sparse, but if you like the setup and quality of articles, please check back frequently for new updates.\n",
    "```"
   ]
  },
  {
   "cell_type": "markdown",
   "metadata": {},
   "source": [
    "## Contact"
   ]
  },
  {
   "cell_type": "markdown",
   "metadata": {},
   "source": [
    "If you want to get in contact you can reach me via:\n",
    "[joep.persoon@pruned.io](mailto:joep.persoon@pruned.io)"
   ]
  },
  {
   "cell_type": "markdown",
   "metadata": {},
   "source": [
    "## References"
   ]
  },
  {
   "cell_type": "markdown",
   "metadata": {},
   "source": [
    "Some of the sources which have greatly inspired both me, as well as the content on this wiki are:\n",
    "- [Udacity](https://www.udacity.com): With their great mentor-guided in-depth courses on topics from data analysis, to machine learning, to deep learning, to data science - and many, many more, they are both a true inspiration as well as a great source of knowledge and enable you to kick start your journey into the vast domain of data science.\n",
    "- [Super Data Science](https://www.superdatascience.com): A lot of high quality in depth video courses specifically tailored to data science, where complex topics are explained in a comprehensive but understandable manner.\n",
    "- [Data Skeptic](https://dataskeptic.com): This podcast has been a great source of information, inspiration and fun for me and has been one of the main drivers encouraging me to take the time to dive deeper into the topic of data science."
   ]
  },
  {
   "cell_type": "code",
   "execution_count": null,
   "metadata": {},
   "outputs": [],
   "source": []
  }
 ],
 "metadata": {
  "kernelspec": {
   "display_name": "Python 3",
   "language": "python",
   "name": "python3"
  },
  "language_info": {
   "codemirror_mode": {
    "name": "ipython",
    "version": 3
   },
   "file_extension": ".py",
   "mimetype": "text/x-python",
   "name": "python",
   "nbconvert_exporter": "python",
   "pygments_lexer": "ipython3",
   "version": "3.7.7"
  }
 },
 "nbformat": 4,
 "nbformat_minor": 4
}
