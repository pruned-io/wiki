{
 "cells": [
  {
   "cell_type": "markdown",
   "metadata": {
    "Collapsed": "false"
   },
   "source": [
    "# Basic Probability"
   ]
  },
  {
   "cell_type": "markdown",
   "metadata": {
    "Collapsed": "false"
   },
   "source": [
    "## Introduction"
   ]
  },
  {
   "cell_type": "markdown",
   "metadata": {
    "Collapsed": "false"
   },
   "source": [
    "In simple cases, probability can work very intuitively. For example, the chance of flipping heads with a coin is intuitively 50%, because there are only two equally likely options, heads or tails. When we talk about probability, we would say that the probability of throwing  heads in a single coin flip is $0.5$. Even when flipping the coin two times, understanding the probability of getting heads two times is still easily calculated by: $0.5 \\times 0.5 = 0.25$ and the probability of getting heads 3 times out of 3 coin flips is $0.5 \\times 0.5 \\times 0.5 = 0.125$, etc.\n",
    "\n",
    "But even something as simple as a coin flip can become less intuitive quite quickly.  What are the odds of throwing at least 2 heads out of 5 flips? What are the odds of throwing exactly 3 heads out of 5 flips? What if we are not dealing with a fair coin, but with a weighted one, where heads comes up 80% of the time?"
   ]
  },
  {
   "cell_type": "markdown",
   "metadata": {
    "Collapsed": "false"
   },
   "source": [
    "## Truth Tables"
   ]
  },
  {
   "cell_type": "markdown",
   "metadata": {
    "Collapsed": "false"
   },
   "source": [
    "When probability gets slightly more complex we can use Truth Tables to write out all possible **sequences of events** and derive the probability of the subset, which meet our specified **success criteria**. \n",
    "\n",
    "Let's say we have a fair coin, which we flip 3 times and we want to know the chance that we flip tails exactly once. This is not a straight forward intuitive answer, but by writing out the Truth Table for this experiment, we can easily derive the probability of this sequence of events.\n",
    "\n",
    "|  Flip 1   |  Flip 2   |  Flip 3   |       Probability (with fair coin)       |\n",
    "| :-------: | :-------: | :-------: | :--------------------------------------: |\n",
    "|   Heads   |   Heads   |   Heads   |   $0.5 \\times 0.5 \\times 0.5 = 0.125$    |\n",
    "| **Heads** | **Heads** | **Tails** | $\\bf{0.5 \\times 0.5 \\times 0.5 = 0.125}$ |\n",
    "| **Heads** | **Tails** | **Heads** | $\\bf{0.5 \\times 0.5 \\times 0.5 = 0.125}$ |\n",
    "|   Heads   |   Tails   |   Tails   |   $0.5 \\times 0.5 \\times 0.5 = 0.125$    |\n",
    "| **Tails** | **Heads** | **Heads** | $\\bf{0.5 \\times 0.5 \\times 0.5 = 0.125}$ |\n",
    "|   Tails   |   Heads   |   Tails   |   $0.5 \\times 0.5 \\times 0.5 = 0.125$    |\n",
    "|   Tails   |   Tails   |   Heads   |   $0.5 \\times 0.5 \\times 0.5 = 0.125$    |\n",
    "|   Tails   |   Tails   |   Tails   |   $0.5 \\times 0.5 \\times 0.5 = 0.125$    |\n",
    "\n",
    "There are $2 \\times 2 \\times 2 = 2^3 = 8$ possible sequences of events (or unique rows in the Truth Table) when we flip a coin 3 times. Assuming this is a fair coin, the probability of each of these  sequences of events should be equal and as we are listing all possible options, they should add up to $1$. All of which is the case for above Truth Table.\n",
    "\n",
    "Now if we want to know the probability of flipping tails exactly once, we can simply add up the probabilities of each row for which this is the case (marked in bold in the Truth Table). There are three rows which meet our success criteria, so the probability of flipping tails exactly once would be: $3 \\cdot 0.125 = \\bf{0.375}$"
   ]
  },
  {
   "cell_type": "markdown",
   "metadata": {
    "Collapsed": "false"
   },
   "source": [
    "```{note}\n",
    "The sum $\\sum$ of all probabilities in a complete Truth Table should always count up to $1$\n",
    "```"
   ]
  },
  {
   "cell_type": "code",
   "execution_count": null,
   "metadata": {
    "Collapsed": "false"
   },
   "outputs": [],
   "source": []
  }
 ],
 "metadata": {
  "kernelspec": {
   "display_name": "Python 3",
   "language": "python",
   "name": "python3"
  },
  "language_info": {
   "codemirror_mode": {
    "name": "ipython",
    "version": 3
   },
   "file_extension": ".py",
   "mimetype": "text/x-python",
   "name": "python",
   "nbconvert_exporter": "python",
   "pygments_lexer": "ipython3",
   "version": "3.7.6"
  }
 },
 "nbformat": 4,
 "nbformat_minor": 4
}
