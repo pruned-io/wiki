{
 "cells": [
  {
   "cell_type": "markdown",
   "metadata": {},
   "source": [
    "# Data Visualization"
   ]
  },
  {
   "cell_type": "markdown",
   "metadata": {
    "collapsed": "false"
   },
   "source": [
    "## Introduction"
   ]
  },
  {
   "cell_type": "markdown",
   "metadata": {
    "collapsed": "false"
   },
   "source": [
    "Data Visualization is all about making visual plots, diagrams or maps of the data at hand. Making data visible can serve two main purposes:\n",
    "\n",
    "- **Exploratory Visualization:** this type of visualization is all about investigating the dataset: checking distributions of variables within the data, checking for relationships, discovering patterns. The main audience for this visualization is usually the data analyst or data scientist himself, or other people who are interested in the steps taken which led to certain conclusions. The visualizations should be structured and clean, but they don't have to be super polished at this point. There are multiple levels of comparison possible at this stage:\n",
    "\n",
    "    - *Univariate Exploration:* exploration of one variable in isolation\n",
    "    - *Bivariate Exploration:* exploration of the relationship between two variables\n",
    "    - *Multivariate Exploration:* exploration of the relationship between more than two variables\n",
    "\n",
    "\n",
    "- **Explanatory Visualization:** this type of visualization is about communicating findings about the data set and should be structure, clear and polished. This type of visualization is often used in presentations towards stakeholders and should really make the points around the outcome of the investigation clear."
   ]
  },
  {
   "cell_type": "markdown",
   "metadata": {
    "collapsed": "false"
   },
   "source": [
    "## Best Practices"
   ]
  },
  {
   "cell_type": "markdown",
   "metadata": {
    "collapsed": "false"
   },
   "source": [
    "- No chart-junk\n",
    "- High data-ink ratio\n",
    "- Coloring\n",
    "    - Qualitative\n",
    "    - Sequential\n",
    "    - ...\n",
    "- Consider color blindness\n",
    "- Less is more"
   ]
  }
 ],
 "metadata": {
  "kernelspec": {
   "display_name": "Python 3",
   "language": "python",
   "name": "python3"
  },
  "language_info": {
   "codemirror_mode": {
    "name": "ipython",
    "version": 3
   },
   "file_extension": ".py",
   "mimetype": "text/x-python",
   "name": "python",
   "nbconvert_exporter": "python",
   "pygments_lexer": "ipython3",
   "version": "3.7.7"
  }
 },
 "nbformat": 4,
 "nbformat_minor": 4
}
