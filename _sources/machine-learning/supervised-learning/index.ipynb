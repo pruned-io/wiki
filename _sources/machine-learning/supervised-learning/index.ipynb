{
 "cells": [
  {
   "cell_type": "markdown",
   "metadata": {},
   "source": [
    "# Supervised Learning"
   ]
  },
  {
   "cell_type": "markdown",
   "metadata": {},
   "source": [
    "## Overview"
   ]
  },
  {
   "cell_type": "markdown",
   "metadata": {},
   "source": [
    "Supervised learning is about extracting patterns from known, labeled data which can then be extracted to work also on new unlabeled data. By 'training' these algorithms, predictions can be made for data outside of our initial training set.\n",
    "\n",
    "Supervised learning can be divided into two broad categories:\n",
    "- **Classification Models:** models which are about predicting to which category or categories an item belongs\n",
    "- **Regression Models:** models which are about predicting numeric values\n",
    "\n"
   ]
  },
  {
   "cell_type": "markdown",
   "metadata": {},
   "source": [
    "```{note}\n",
    "Although often used for yes/no type of questions, classification models can also be used for predicting more than one categories with many options.\n",
    "```"
   ]
  }
 ],
 "metadata": {
  "kernelspec": {
   "display_name": "Python 3",
   "language": "python",
   "name": "python3"
  },
  "language_info": {
   "codemirror_mode": {
    "name": "ipython",
    "version": 3
   },
   "file_extension": ".py",
   "mimetype": "text/x-python",
   "name": "python",
   "nbconvert_exporter": "python",
   "pygments_lexer": "ipython3",
   "version": "3.7.7"
  }
 },
 "nbformat": 4,
 "nbformat_minor": 4
}
