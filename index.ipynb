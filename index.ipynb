{
 "cells": [
  {
   "cell_type": "markdown",
   "metadata": {},
   "source": [
    "# Home"
   ]
  },
  {
   "cell_type": "markdown",
   "metadata": {
    "collapsed": "false"
   },
   "source": [
    "This wiki is a knowledge base which explores the huge topic of Data Science, from scratch. It is a structured log book of topics I encountered during my journey of taking courses, reading books, listing to pod casts, attending conferences, etc.\n",
    "\n",
    "```{note}\n",
    "This wiki just started to shape (as of June 2020) and will grow over time. At this moment articles may be sparse, but if you like the setup and quality of articles, please check back frequently for new updates.\n",
    "```"
   ]
  }
 ],
 "metadata": {
  "kernelspec": {
   "display_name": "Python 3",
   "language": "python",
   "name": "python3"
  },
  "language_info": {
   "codemirror_mode": {
    "name": "ipython",
    "version": 3
   },
   "file_extension": ".py",
   "mimetype": "text/x-python",
   "name": "python",
   "nbconvert_exporter": "python",
   "pygments_lexer": "ipython3",
   "version": "3.7.7"
  }
 },
 "nbformat": 4,
 "nbformat_minor": 4
}
