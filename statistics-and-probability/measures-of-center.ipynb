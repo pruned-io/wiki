{
 "cells": [
  {
   "cell_type": "markdown",
   "metadata": {
    "Collapsed": "false"
   },
   "source": [
    "# Measures of Center"
   ]
  },
  {
   "cell_type": "markdown",
   "metadata": {
    "Collapsed": "false"
   },
   "source": [
    "## Introduction"
   ]
  },
  {
   "cell_type": "code",
   "execution_count": 9,
   "metadata": {
    "Collapsed": "false"
   },
   "outputs": [],
   "source": [
    "# Imports\n",
    "import numpy as np\n",
    "from scipy import stats"
   ]
  },
  {
   "cell_type": "markdown",
   "metadata": {
    "Collapsed": "false"
   },
   "source": [
    "There are typically three measures of central tendency which are commonly used as summary statistics:\n",
    "- Mean\n",
    "- Median\n",
    "- Mode"
   ]
  },
  {
   "cell_type": "markdown",
   "metadata": {
    "Collapsed": "false"
   },
   "source": [
    "## Mean"
   ]
  },
  {
   "cell_type": "markdown",
   "metadata": {
    "Collapsed": "false"
   },
   "source": [
    "The mean is the sum of all values in a population or sample, divided by the total number of values within that dataset.\n",
    "\n",
    "Mathematically expressed this would be:"
   ]
  },
  {
   "cell_type": "markdown",
   "metadata": {
    "Collapsed": "false"
   },
   "source": [
    "$$\n",
    "\\bar{x} = \\frac{1}{n} \\sum\\limits_{i=1}^nx_i​\n",
    "$$"
   ]
  },
  {
   "cell_type": "markdown",
   "metadata": {
    "Collapsed": "false"
   },
   "source": [
    "```{note}\n",
    "$\\bf{\\bar{x}}$ is the notation for the mean of $x$ and is pronounced as \"$x$ bar\". This is the notation used for the mean of a **sample** (e.g a subset of a population). The mean of the whole **population** is expressed with $\\bf{\\mu}$.\n",
    "```"
   ]
  },
  {
   "cell_type": "markdown",
   "metadata": {
    "Collapsed": "false"
   },
   "source": [
    "In Python the mean of a random list of numbers can be calculated as follows:"
   ]
  },
  {
   "cell_type": "code",
   "execution_count": 10,
   "metadata": {
    "Collapsed": "false"
   },
   "outputs": [
    {
     "data": {
      "text/plain": [
       "52.714285714285715"
      ]
     },
     "execution_count": 10,
     "metadata": {},
     "output_type": "execute_result"
    }
   ],
   "source": [
    "# For a random list of numbers, calculate the Mean\n",
    "numbers = [21, 5, 32, 1, 4, 2, 8, 5, 5, 1, 4, 2, 643, 5]\n",
    "np.mean(numbers)"
   ]
  },
  {
   "cell_type": "markdown",
   "metadata": {
    "Collapsed": "false"
   },
   "source": [
    "## Median"
   ]
  },
  {
   "cell_type": "markdown",
   "metadata": {
    "Collapsed": "false"
   },
   "source": [
    "The median is the center of a numeric dataset, which can be found be ordering all values in the dateset from lowest to highest value and by than taking:\n",
    "- the number which is at the center of the set (if there is an uneven number of values in the set)\n",
    "- the mean of the two numbers at th center of the set (if there is an even number of values in the set)"
   ]
  },
  {
   "cell_type": "markdown",
   "metadata": {
    "Collapsed": "false"
   },
   "source": [
    "```{note}\n",
    "The median is less affected by outliers than the mean.\n",
    "```"
   ]
  },
  {
   "cell_type": "markdown",
   "metadata": {
    "Collapsed": "false"
   },
   "source": [
    "Mathematically expressed the median would be noted as:"
   ]
  },
  {
   "cell_type": "markdown",
   "metadata": {
    "Collapsed": "false"
   },
   "source": [
    "$$\n",
    "median = \\frac{a_\\left \\lfloor{\\frac{l+1}{2}}\\right \\rfloor + a_\\left \\lceil{\\frac{l+1}{2}}\\right \\rceil}{2}\n",
    "$$\n",
    "\n",
    "Where $a$ is an ordered list of $l$ numbers and where $\\left \\lfloor{.}\\right \\rfloor$ and $\\left \\lceil{.}\\right \\rceil$ denote the floor and ceiling functions, respectively."
   ]
  },
  {
   "cell_type": "markdown",
   "metadata": {
    "Collapsed": "false"
   },
   "source": [
    "In Python the median is calcuted as follows:"
   ]
  },
  {
   "cell_type": "code",
   "execution_count": 11,
   "metadata": {
    "Collapsed": "false"
   },
   "outputs": [
    {
     "data": {
      "text/plain": [
       "5.0"
      ]
     },
     "execution_count": 11,
     "metadata": {},
     "output_type": "execute_result"
    }
   ],
   "source": [
    "# For a random list of numbers, calculate the Median\n",
    "numbers = [21, 5, 32, 1, 4, 2, 8, 5, 5, 1, 4, 2, 643, 5]\n",
    "np.median(numbers)"
   ]
  },
  {
   "cell_type": "markdown",
   "metadata": {
    "Collapsed": "false"
   },
   "source": [
    "## Mode"
   ]
  },
  {
   "cell_type": "markdown",
   "metadata": {
    "Collapsed": "false"
   },
   "source": [
    "The mode is the most common value in the dataset, e.g the value which occurs most frequently.\n",
    "- If no values occur more than once, there is no mode\n",
    "- If multiple values occur most frequently, we have multiple modes"
   ]
  },
  {
   "cell_type": "markdown",
   "metadata": {
    "Collapsed": "false"
   },
   "source": [
    "In Python the mode would be calculated as follows *(using scipy.stats)*:"
   ]
  },
  {
   "cell_type": "code",
   "execution_count": 14,
   "metadata": {
    "Collapsed": "false"
   },
   "outputs": [
    {
     "data": {
      "text/plain": [
       "ModeResult(mode=array([5]), count=array([4]))"
      ]
     },
     "execution_count": 14,
     "metadata": {},
     "output_type": "execute_result"
    }
   ],
   "source": [
    "# For a random list of numbers, calculate the Mode\n",
    "numbers = [21, 5, 32, 1, 4, 2, 8, 5, 5, 1, 4, 2, 643, 5]\n",
    "stats.mode(numbers)"
   ]
  }
 ],
 "metadata": {
  "kernelspec": {
   "display_name": "Python 3",
   "language": "python",
   "name": "python3"
  },
  "language_info": {
   "codemirror_mode": {
    "name": "ipython",
    "version": 3
   },
   "file_extension": ".py",
   "mimetype": "text/x-python",
   "name": "python",
   "nbconvert_exporter": "python",
   "pygments_lexer": "ipython3",
   "version": "3.7.6"
  }
 },
 "nbformat": 4,
 "nbformat_minor": 4
}
